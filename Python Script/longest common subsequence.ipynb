{
 "cells": [
  {
   "cell_type": "code",
   "execution_count": 1,
   "id": "3554f552-72e1-4b56-9ea4-bdd17e668a83",
   "metadata": {},
   "outputs": [],
   "source": [
    "str1 = \"axbzce\"\n",
    "str2 = \"abxzcf\""
   ]
  },
  {
   "cell_type": "code",
   "execution_count": 2,
   "id": "4ac8e03d-01ab-42c9-98dc-ca1cc76929d2",
   "metadata": {},
   "outputs": [],
   "source": [
    "m = len(str1)\n",
    "n = len(str2)"
   ]
  },
  {
   "cell_type": "code",
   "execution_count": 4,
   "id": "9d94fa58-a6f4-4d79-9b50-b3c1b800b755",
   "metadata": {},
   "outputs": [],
   "source": [
    "dp = [[\"\"]*(n+1) for _ in range (m+1)]"
   ]
  },
  {
   "cell_type": "code",
   "execution_count": 9,
   "id": "d913a751-aebd-43bf-ba20-5e77d7a9084a",
   "metadata": {},
   "outputs": [],
   "source": [
    "for i in range (1, m+1):\n",
    "    for j in range (1, n+1):\n",
    "        if str1[i-1] == str2[j-1]:\n",
    "            dp[i][j] = dp[i-1][j-1]+str1[i-1]\n",
    "        else:\n",
    "            dp[i][j] = max(dp[i-1][j], dp[i][j-1], key=len)\n",
    "            \n",
    "            "
   ]
  },
  {
   "cell_type": "code",
   "execution_count": 11,
   "id": "fbb6c232-c394-4f3a-bda2-9e27accc4f6f",
   "metadata": {},
   "outputs": [
    {
     "name": "stdout",
     "output_type": "stream",
     "text": [
      "axzc\n"
     ]
    }
   ],
   "source": [
    "print(dp[m][n])"
   ]
  },
  {
   "cell_type": "code",
   "execution_count": null,
   "id": "b0fcb8f1-8120-4478-9703-e0e6134d8a8d",
   "metadata": {},
   "outputs": [],
   "source": []
  }
 ],
 "metadata": {
  "kernelspec": {
   "display_name": "Python 3 (ipykernel)",
   "language": "python",
   "name": "python3"
  },
  "language_info": {
   "codemirror_mode": {
    "name": "ipython",
    "version": 3
   },
   "file_extension": ".py",
   "mimetype": "text/x-python",
   "name": "python",
   "nbconvert_exporter": "python",
   "pygments_lexer": "ipython3",
   "version": "3.12.8"
  }
 },
 "nbformat": 4,
 "nbformat_minor": 5
}
